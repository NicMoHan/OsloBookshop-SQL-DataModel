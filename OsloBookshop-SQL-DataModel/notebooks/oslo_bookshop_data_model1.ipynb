{
 "cells": [
  {
   "cell_type": "markdown",
   "metadata": {},
   "source": [
    "# This notebook demonstrates the SQL data model for a mock StartUp Bookshop (from Oslo :). We will create tables, define relationships, and query data.\n",
    "# The database herby implemented uses SQL Server. "
   ]
  },
  {
   "cell_type": "markdown",
   "metadata": {},
   "source": [
    "# ER Diagram for Oslo Bookshop\n",
    "\n",
    "This diagram illustrates the relationships between the tables in the Oslo Bookshop database.\n",
    "\n",
    "![ER Diagram](images/oslo_book_shop.drawio.png)\n"
   ]
  },
  {
   "cell_type": "code",
   "execution_count": 8,
   "metadata": {},
   "outputs": [
    {
     "ename": "SyntaxError",
     "evalue": "invalid syntax (552934597.py, line 4)",
     "output_type": "error",
     "traceback": [
      "  \u001b[36mCell\u001b[39m\u001b[36m \u001b[39m\u001b[32mIn[8]\u001b[39m\u001b[32m, line 4\u001b[39m\n\u001b[31m    \u001b[39m\u001b[31mCREATE TABLE books (\u001b[39m\n           ^\n\u001b[31mSyntaxError\u001b[39m\u001b[31m:\u001b[39m invalid syntax\n"
     ]
    }
   ],
   "source": [
    "# SQL Script Table Creation\n",
    "\n",
    "# create table 'books'\n",
    "CREATE TABLE books (\n",
    "  book_id INT PRIMARY KEY,\n",
    "  title VARCHAR(100),\n",
    "  year_published DATE,\n",
    "  price DECIMAL(10, 2)\n",
    ");\n",
    "\n",
    "# create  'authors' table\n",
    "CREATE TABLE authors (\n",
    "  author_id INT PRIMARY KEY,\n",
    "  name VARCHAR(50),\n",
    "  birth_year DATE\n",
    ");\n",
    "\n",
    "# create  'book_authors' table\n",
    "CREATE TABLE book_authors (\n",
    "  book_id INT,\n",
    "  author_id INT,\n",
    "  PRIMARY KEY (book_id, author_id),\n",
    "  FOREIGN KEY (book_id) REFERENCES books(book_id) ON DELETE CASCADE,\n",
    "  FOREIGN KEY (author_id) REFERENCES authors(author_id) ON DELETE CASCADE\n",
    ");\n",
    "\n",
    "# create  'customers' table\n",
    "CREATE TABLE customers (\n",
    "  customer_id INT IDENTITY(1, 1) PRIMARY KEY,\n",
    "  name VARCHAR(50),\n",
    "  email VARCHAR(100)\n",
    ");\n",
    "\n",
    "# create  'orders' table\n",
    "CREATE TABLE orders (\n",
    "  order_id INT IDENTITY(1, 1) PRIMARY KEY,\n",
    "  customer_id INT,\n",
    "  order_date DATE,\n",
    "  FOREIGN KEY (customer_id) REFERENCES customers (customer_id) ON DELETE CASCADE\n",
    ");\n",
    "\n",
    "# create  'order_items' table\n",
    "CREATE TABLE order_items (\n",
    "  order_id INT,\n",
    "  book_id INT,\n",
    "  quantity INT,\n",
    "  PRIMARY KEY (order_id, book_id),\n",
    "  FOREIGN KEY (order_id) REFERENCES orders(order_id) ON DELETE CASCADE,\n",
    "  FOREIGN KEY (book_id) REFERENCES books(book_id) ON DELETE CASCADE\n",
    ");\n"
   ]
  },
  {
   "cell_type": "code",
   "execution_count": 9,
   "metadata": {},
   "outputs": [
    {
     "ename": "SyntaxError",
     "evalue": "invalid syntax (1571365034.py, line 4)",
     "output_type": "error",
     "traceback": [
      "  \u001b[36mCell\u001b[39m\u001b[36m \u001b[39m\u001b[32mIn[9]\u001b[39m\u001b[32m, line 4\u001b[39m\n\u001b[31m    \u001b[39m\u001b[31mINSERT INTO books VALUES (1, 'Harry Potter: Filosophers Stone Vol I', '1997-01-04', 22.99);\u001b[39m\n           ^\n\u001b[31mSyntaxError\u001b[39m\u001b[31m:\u001b[39m invalid syntax\n"
     ]
    }
   ],
   "source": [
    "# SQL Script Inserting Data\n",
    "\n",
    "#insert into books\n",
    "INSERT INTO books VALUES (1, 'Harry Potter: Filosophers Stone Vol I', '1997-01-04', 22.99);\n",
    "INSERT INTO books VALUES (2, 'Lord of The Rings: Fellowship - Vol I', '1954-02-18', 22.99);\n",
    "INSERT INTO books VALUES (3, 'Gruffalo', '2012-09-12', 9.90);\n",
    "INSERT INTO books VALUES (4, 'Harry Potter: Chamber of Secrets - Vol II', '1999-08-12', 22.99);\n",
    "INSERT INTO books VALUES (5, 'Harry Potter: Prisioner of Askaban', '2001-05-19', 24.99);\n",
    "INSERT INTO books VALUES (6, 'Lord of The Rings: Two Towers - Vol II', '1954-11-11', 22.99);\n",
    "INSERT INTO books VALUES (7, 'Lord of The Rings: Return of The King', '1955-10-20', 24.99);\n",
    "INSERT INTO books VALUES (8, 'The Shinning', '1977-01-28', 17.49);\n",
    "INSERT INTO books VALUES (9, 'Jack Reacher: Killing Floor - Vol I', '1997-03-17', 17.99);\n",
    "INSERT INTO books VALUES (10, 'The talisman', '1984-11-07', 13.99);\n",
    "\n",
    "#insert into authors\n",
    "INSERT INTO authors VALUES (1, 'J. K. Rowling', '1965-07-31');\n",
    "INSERT INTO authors VALUES (2, 'John Ronald Reuel Tolkien', '1892-01-03');\n",
    "INSERT INTO authors VALUES (3, 'Julia Donaldson', '1948-09-16');\n",
    "INSERT INTO authors VALUES (4, 'Axel Scheffler', '1957-12-12');\n",
    "INSERT INTO authors VALUES (5, 'Stephen King', '1947-09-21');\n",
    "INSERT INTO authors VALUES (6, 'Peter Straub', '1943-03-02');\n",
    "INSERT INTO authors VALUES (7, 'Lee Child', '1954-10-29');\n",
    "\n",
    "#insert into book_authors\n",
    "INSERT INTO book_authors VALUES (1, 1);\n",
    "INSERT INTO book_authors VALUES (2, 2);\n",
    "INSERT INTO book_authors VALUES (3, 3);\n",
    "INSERT INTO book_authors VALUES (3, 4);\n",
    "INSERT INTO book_authors VALUES (4, 1);\n",
    "INSERT INTO book_authors VALUES (5, 1);\n",
    "INSERT INTO book_authors VALUES (6, 2);\n",
    "INSERT INTO book_authors VALUES (7, 2);\n",
    "INSERT INTO book_authors VALUES (8, 5);\n",
    "INSERT INTO book_authors VALUES (9, 7);\n",
    "INSERT INTO book_authors VALUES (10, 5);\n",
    "INSERT INTO book_authors VALUES (10, 6);\n",
    "\n",
    "#insert into customers\n",
    "#Because I have auto increment 'identity(1, 1)' I do not type in the primary key value\n",
    "INSERT INTO customers (name, email) VALUES ('Alice', 'alice@gmail.com'),\n",
    "('James', 'james@gmail.com'),\n",
    "('Beatrice', 'bea@gmail.com'),\n",
    "('Carol', 'carol@gmail.com');\n",
    "\n",
    "#insert into orders\n",
    "INSERT INTO orders (customer_id, order_date)\n",
    "VALUES (1, '2025-03-10'),\n",
    "(2, '2025-03-10'),\n",
    "(4, '2025-03-10'),\n",
    "(1, '2025-03-11'),\n",
    "(3, '2025-03-12'),\n",
    "(4, '2025-03-13'),\n",
    "(1, '2025-03-16'),\n",
    "(2, '2025-03-16'),\n",
    "(3, '2025-03-16');\n",
    "\n",
    "#insert into order_items\n",
    "INSERT INTO order_items VALUES (1, 1, 1),\n",
    "(2, 3, 2),\n",
    "(3, 5, 1),\n",
    "(4, 6, 1),\n",
    "(4, 5, 1),\n",
    "(4, 2, 1),\n",
    "(5, 7, 1),\n",
    "(5, 10, 1),\n",
    "(6, 2, 1),\n",
    "(7, 8, 1),\n",
    "(8, 2, 1),\n",
    "(8, 4, 1),\n",
    "(9, 9, 2);\n",
    "\n"
   ]
  },
  {
   "cell_type": "code",
   "execution_count": null,
   "metadata": {},
   "outputs": [
    {
     "ename": "SyntaxError",
     "evalue": "invalid character '–' (U+2013) (2601696550.py, line 19)",
     "output_type": "error",
     "traceback": [
      "  \u001b[36mCell\u001b[39m\u001b[36m \u001b[39m\u001b[32mIn[5]\u001b[39m\u001b[32m, line 19\u001b[39m\n\u001b[31m    \u001b[39m\u001b[31m–- Retrieve all orders made by a customer James.\u001b[39m\n    ^\n\u001b[31mSyntaxError\u001b[39m\u001b[31m:\u001b[39m invalid character '–' (U+2013)\n"
     ]
    }
   ],
   "source": [
    "#Query to Get Data\n",
    "\n",
    "# Query to find all books written by authors John Ronald Reuel Tolkien and Stephen King.\n",
    "\n",
    "SELECT title\n",
    "FROM books b\n",
    "WHERE book_id IN (\n",
    "    SELECT book_id\n",
    "    FROM book_authors ba\n",
    "    WHERE author_id IN (\n",
    "        SELECT author_id\n",
    "        FROM authors\n",
    "        WHERE name IN ('John Ronald Reuel Tolkien', 'Stephen King'\n",
    "        )\n",
    "    )\n",
    ");\n",
    "\n",
    "\n",
    "# Retrieve all orders made by a customer James.\n",
    "\n",
    "SELECT order_id\n",
    "FROM orders\n",
    "WHERE customer_id IN (\n",
    "SELECT customer_id\n",
    "FROM customers\n",
    "WHERE name = 'James'\n",
    ");\n",
    "\n",
    "\n",
    "# Calculate total revenue from all orders.\n",
    "\n",
    "SELECT SUM(price * quantity) AS total_revenue\n",
    "FROM order_items oi\n",
    "JOIN books b ON oi.book_id = b.book_id;\n"
   ]
  }
 ],
 "metadata": {
  "kernelspec": {
   "display_name": "Python 3",
   "language": "python",
   "name": "python3"
  },
  "language_info": {
   "codemirror_mode": {
    "name": "ipython",
    "version": 3
   },
   "file_extension": ".py",
   "mimetype": "text/x-python",
   "name": "python",
   "nbconvert_exporter": "python",
   "pygments_lexer": "ipython3",
   "version": "3.12.8"
  }
 },
 "nbformat": 4,
 "nbformat_minor": 2
}
